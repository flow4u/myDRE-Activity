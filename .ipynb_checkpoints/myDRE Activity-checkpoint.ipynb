{
 "cells": [
  {
   "cell_type": "markdown",
   "id": "2eb47493-515b-4be1-ae6a-d754ecd708ee",
   "metadata": {},
   "source": [
    "# How active is myDRE being used?\n",
    "    \n",
    "Activity is measured via this script by:\n",
    "- Succeeded VM starts\n",
    "\n",
    "## How to\n",
    "### in portal.azure.com\n",
    "- Log into portal.azure.com\n",
    "- Select a Workspace Subscription\n",
    "- Select Activity log\n",
    "- Edit Columns, minimum needed\n",
    "    - Operation name\n",
    "    - Time\n",
    "    - Event initiated by\n",
    "    - Resource group\n",
    "    - Resource\n",
    "- Adjust the Subscription scope (it is possible to select multiple subscriptions)\n",
    "- Adjust the Timespan (max a month, combine multiple months by saving if need be)\n",
    "- Filter Operation: Start Virtual Machine (Microsoft.Compute/virtualMachine/start action)\n",
    "- Download as CSV\n",
    "\n",
    "### in Jupyter notebook / Python\n",
    "- Copy the CSV in the same dir as Jupyter notebook / Python\n",
    "- Update Sub_Dict.csv if needed\n",
    "     - The Sub_Dict.csv does contain only part of the Subscription ID to provide protection against misuse\n",
    "- Change the SOURCE_FILE in cell 2\n",
    "- Run the script\n",
    "- Some output CSVs are generated for closer inspection/use in Excel"
   ]
  },
  {
   "cell_type": "code",
   "execution_count": null,
   "id": "f75fa267-812e-41f9-8dfc-3f2c5e836483",
   "metadata": {
    "tags": []
   },
   "outputs": [],
   "source": [
    "import polars as pl\n",
    "import pyarrow\n",
    "import seaborn as sns\n",
    "import pandas as pd\n",
    "import matplotlib.pyplot as plt"
   ]
  },
  {
   "cell_type": "code",
   "execution_count": null,
   "id": "eae13832-9b76-4875-b6fc-fc631dbb7bd3",
   "metadata": {
    "tags": []
   },
   "outputs": [],
   "source": [
    "# QueryREsult (2).csv = All VM starts that Succeeded\n",
    "SOURCE_FILE = 'QueryResult (5).csv'\n",
    "raw = pl.read_csv(SOURCE_FILE)\n",
    "succeededVMstarted= raw.filter(pl.col('Status') == 'Succeeded')"
   ]
  },
  {
   "cell_type": "code",
   "execution_count": null,
   "id": "0ecf89e6-6b9f-4ce4-befb-0192d71f432f",
   "metadata": {
    "tags": []
   },
   "outputs": [],
   "source": [
    "#print(succeededVMstarted.columns)"
   ]
  },
  {
   "cell_type": "code",
   "execution_count": null,
   "id": "1f071736-5635-427c-8dce-10b20d8d0c8e",
   "metadata": {
    "tags": []
   },
   "outputs": [],
   "source": [
    "# Get subscription dictionary to replace UUIDs with readable IDs\n",
    "SOURCE_FILE='Sub_Dict.csv'\n",
    "df=pd.read_csv(SOURCE_FILE).set_index('id')\n",
    "subscription_dictionary = df.to_dict()"
   ]
  },
  {
   "cell_type": "code",
   "execution_count": null,
   "id": "e9b7e5aa-b732-4a27-b3f5-bc0181e05d3c",
   "metadata": {
    "tags": []
   },
   "outputs": [],
   "source": [
    "# limit to only columns needed\n",
    "reduced_data=succeededVMstarted.select(['Time', 'Resource group', 'Resource', 'Event initiated by', 'Subscription'])\n",
    "\n",
    "# replace Subscription ID with meaningful\n",
    "reduced_data=reduced_data.with_columns(reduced_data['Subscription'].apply(lambda x: subscription_dictionary['name'][x[:15]][18:]))\n",
    "\n",
    "# Create dataset with at most one successful login per day\n",
    "reduced_data=reduced_data.with_columns(reduced_data['Time'].apply(lambda x: x[:-14]))\n",
    "reduced_data=reduced_data.with_columns((pl.col('Resource group') + '_server' + pl.col('Resource').apply(lambda x: x[-2:].replace('r', '0'))).alias('VM'))\n",
    "# reduced_data = reduced_data[['Time', 'Resource group', 'VM', 'Event initiated by']].unique()\n",
    "\n",
    "# limit to only columns of interest\n",
    "reduced_data=reduced_data.with_columns(pl.lit(1).alias('Counter'))\n",
    "reduced_data=reduced_data.select(['Time', 'Resource group', 'Event initiated by', 'VM', 'Subscription','Counter'])\n",
    "print(reduced_data)\n",
    "date=f'{min(reduced_data[\"Time\"])} - {max(reduced_data[\"Time\"])}'\n",
    "reduced_data.write_csv('reduced_data '+ date + '.csv')"
   ]
  },
  {
   "cell_type": "markdown",
   "id": "0a938961-a931-4e62-a69e-2f831ce08f0a",
   "metadata": {},
   "source": [
    "## VMs Start Succeeded in Subscription\n",
    "\n",
    "- Number of VM succeeded starts per day per subsription\""
   ]
  },
  {
   "cell_type": "code",
   "execution_count": null,
   "id": "855c543a-0e8c-4760-8cc2-c14c5318712d",
   "metadata": {
    "tags": []
   },
   "outputs": [],
   "source": [
    "item = 'Subscription'\n",
    "table=reduced_data.pivot(columns='Time', index=item, values='Counter', aggregate_fn='sum').with_column(pl.col(pl.Int32).fill_null(pl.lit(0)))\n",
    "# print(table)\n",
    "result = table.to_pandas()\n",
    "result = result.set_index(item)\n",
    "result.sort_index(level=0, ascending=True, inplace=True)\n",
    "vms = len(set(reduced_data['VM']))\n",
    "vm_starts = sum(reduced_data['Counter'])\n",
    "title=f'{vms} VMs with {vm_starts} Succeeded starts during {min(result.columns)} - {max(result.columns)}'\n",
    "fig, ax = plt.subplots(figsize=(10,5))\n",
    "figure = sns.heatmap(result, cmap='flare', mask=result<1, vmin=1, vmax=(max(result.max())//5+1)*5)\n",
    "figure.set(title=title)\n",
    "figure.invert_xaxis()"
   ]
  },
  {
   "cell_type": "code",
   "execution_count": null,
   "id": "c01849d6-3be7-4fb5-a8d1-c8f12ff7c9cd",
   "metadata": {
    "tags": []
   },
   "outputs": [],
   "source": [
    "item1 = 'Subscription'\n",
    "item2 = 'Resource group'\n",
    "sorton = 'VMs started'\n",
    "sorton = ['Subscription', 'VMs started']\n",
    "# sorton = 'Subscription'\n",
    "table2=(reduced_data\n",
    "       .groupby([item1, item2])\n",
    "       .agg([\n",
    "           pl.col('Counter').sum().alias('VMs started')\n",
    "       ])\n",
    "      ).sort(sorton, True)\n",
    "print('='*60)\n",
    "print(f\"{title:^60}\")\n",
    "print('-'*60)\n",
    "print(table2)\n",
    "date=f'{min(result.columns)} - {max(result.columns)}'\n",
    "table2.write_csv(item1+'-'+item2 + '-' + date + '.csv')"
   ]
  },
  {
   "cell_type": "code",
   "execution_count": null,
   "id": "089ac989-5c28-444e-b4fa-9ce9896caa06",
   "metadata": {
    "tags": []
   },
   "outputs": [],
   "source": [
    "item = 'Resource group'\n",
    "table=reduced_data.pivot(columns='Time', index=item, values='Counter', aggregate_fn='sum').with_column(pl.col(pl.Int32).fill_null(pl.lit(0)))\n",
    "# print(table)\n",
    "result = table.to_pandas()\n",
    "result = result.set_index(item)\n",
    "result.sort_index(level=0, ascending=True, inplace=True)\n",
    "title=f'Succeeded VM starts: {min(result.columns)} - {max(result.columns)}'\n",
    "fig, ax = plt.subplots(figsize=(10,35))\n",
    "figure = sns.heatmap(result, cmap='flare', mask=result<1, vmax=(max(result.max())//5+1)*5)\n",
    "figure.set(title=title)\n",
    "figure.invert_xaxis()"
   ]
  },
  {
   "cell_type": "markdown",
   "id": "32aa6a7d-24f3-4341-ba21-51ba019a9043",
   "metadata": {},
   "source": [
    "## Active WSs in Subscription\n",
    "\n",
    "- Number of Active WSs per day per subsription\n",
    "   - Active WS = 1 or more VM start succeeeded of that WS"
   ]
  },
  {
   "cell_type": "code",
   "execution_count": null,
   "id": "627bec38-5b7c-4a6a-8607-d41c1cc59a68",
   "metadata": {
    "tags": []
   },
   "outputs": [],
   "source": [
    "reduced_data2 = reduced_data[['Time', 'Subscription', 'Resource group']].unique()\n",
    "reduced_data2=reduced_data2.with_columns(pl.lit(1).alias('Counter'))\n",
    "item = 'Subscription'\n",
    "table=reduced_data2.pivot(columns='Time', index=item, values='Counter', aggregate_fn='sum').with_column(pl.col(pl.Int32).fill_null(pl.lit(0)))\n",
    "# print(table)\n",
    "active_wss = len(set(reduced_data2['Resource group']))\n",
    "result = table.to_pandas()\n",
    "result = result.set_index(item)\n",
    "result.sort_index(level=0, ascending=True, inplace=True)\n",
    "title=f'{active_wss} Active Workspaces (1 or more VMs started) {min(result.columns)} - {max(result.columns)}'\n",
    "fig, ax = plt.subplots(figsize=(10,5))\n",
    "figure = sns.heatmap(result, cmap='flare', mask=result<1) #, vmin=1, vmax=(max(result.max())//5+1)*5)\n",
    "figure.set(title=title)\n",
    "figure.invert_xaxis()"
   ]
  },
  {
   "cell_type": "markdown",
   "id": "521a2895-427e-4b6b-9f55-c966de6c7f37",
   "metadata": {},
   "source": [
    "## # of Active Users\n",
    "\n",
    "- Number of Users per day per subsription\n",
    "   - Active user = started 1 or more VM start succeeeded"
   ]
  },
  {
   "cell_type": "code",
   "execution_count": null,
   "id": "77e39ce3-dd6d-43e2-bf4e-f99b4b883092",
   "metadata": {
    "tags": []
   },
   "outputs": [],
   "source": [
    "reduced_data3 = reduced_data[['Time', 'Event initiated by']].unique()\n",
    "reduced_data3=reduced_data3.with_columns(pl.lit(1).alias('Counter'))\n",
    "item = 'Event initiated by'\n",
    "table=reduced_data3.pivot(columns='Time', index=item, values='Counter', aggregate_fn='sum').with_column(pl.col(pl.Int32).fill_null(pl.lit(0)))\n",
    "# print(table)\n",
    "active_users = len(set(reduced_data3['Event initiated by']))\n",
    "result = table.to_pandas()\n",
    "result = result.set_index(item)\n",
    "result.sort_index(level=0, ascending=True, inplace=True)\n",
    "title=f'{active_users} Users started {vms} VMs {vm_starts} times between {min(result.columns)} - {max(result.columns)}'\n",
    "fig, ax = plt.subplots(figsize=(10,5))\n",
    "ax = sns.heatmap(result, cmap='flare', mask=result<1) #, vmin=1, vmax=(max(result.max())//5+1)*5)\n",
    "ax.set(title=title)\n",
    "ax.set(ylabel=None)\n",
    "ax.tick_params(left=False)\n",
    "ax.set_yticklabels([])\n",
    "ax.invert_xaxis()"
   ]
  },
  {
   "cell_type": "code",
   "execution_count": null,
   "id": "34eef0b9-8635-4e22-a76b-9708d1ab5860",
   "metadata": {},
   "outputs": [],
   "source": []
  }
 ],
 "metadata": {
  "kernelspec": {
   "display_name": "Python 3 (ipykernel)",
   "language": "python",
   "name": "python3"
  },
  "language_info": {
   "codemirror_mode": {
    "name": "ipython",
    "version": 3
   },
   "file_extension": ".py",
   "mimetype": "text/x-python",
   "name": "python",
   "nbconvert_exporter": "python",
   "pygments_lexer": "ipython3",
   "version": "3.10.9"
  }
 },
 "nbformat": 4,
 "nbformat_minor": 5
}
