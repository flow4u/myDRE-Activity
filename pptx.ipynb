{
 "cells": [
  {
   "cell_type": "code",
   "execution_count": 1,
   "id": "a89dd695-8443-4c87-92a8-e5995a4b5292",
   "metadata": {
    "tags": []
   },
   "outputs": [],
   "source": [
    "from pptx import Presentation\n",
    "prs = Presentation()"
   ]
  },
  {
   "cell_type": "code",
   "execution_count": 2,
   "id": "f30d6688-6627-4db9-a130-d9a10fcd0ad7",
   "metadata": {},
   "outputs": [],
   "source": [
    "# prs = Presentation('existing-prs-file.pptx')\n",
    "# prs.save('new-file-name.pptx')"
   ]
  },
  {
   "cell_type": "code",
   "execution_count": 3,
   "id": "c8a1ecfd-537f-4618-9c25-5d7a6b870092",
   "metadata": {
    "tags": []
   },
   "outputs": [],
   "source": [
    "SLD_LAYOUT_TITLE_AND_CONTENT = 0\n",
    "\n",
    "prs = Presentation()\n",
    "slide_layout = prs.slide_layouts[SLD_LAYOUT_TITLE_AND_CONTENT]\n",
    "slide = prs.slides.add_slide(slide_layout)\n",
    "title_placeholder = slide.shapes.title\n",
    "title_placeholder.text = 'Hello World'"
   ]
  },
  {
   "cell_type": "code",
   "execution_count": 4,
   "id": "3a096f39-d34a-4217-be0d-54cbb1bc7eeb",
   "metadata": {
    "tags": []
   },
   "outputs": [],
   "source": [
    "slide = prs.slides.add_slide(prs.slide_layouts[8])\n",
    "placeholder = slide.placeholders[1]  # idx key, not position\n",
    "# 0  Title 1\n",
    "# 1  Picture Placeholder 2\n",
    "# 2  Text Placeholder 3\n",
    "placeholder.name\n",
    "placeholder.placeholder_format.type\n",
    "picture = placeholder.insert_picture('myDRE/sub_vm_activity_2023-01-01 - 2023-01-31.png')\n",
    "prs.save('test.pptx')"
   ]
  },
  {
   "cell_type": "code",
   "execution_count": null,
   "id": "7a5ab1ed-0d3c-480f-9955-36284ef6f11a",
   "metadata": {},
   "outputs": [],
   "source": []
  }
 ],
 "metadata": {
  "kernelspec": {
   "display_name": "Python 3 (ipykernel)",
   "language": "python",
   "name": "python3"
  },
  "language_info": {
   "codemirror_mode": {
    "name": "ipython",
    "version": 3
   },
   "file_extension": ".py",
   "mimetype": "text/x-python",
   "name": "python",
   "nbconvert_exporter": "python",
   "pygments_lexer": "ipython3",
   "version": "3.10.9"
  }
 },
 "nbformat": 4,
 "nbformat_minor": 5
}
